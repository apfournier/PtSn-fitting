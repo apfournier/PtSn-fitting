{
 "cells": [
  {
   "cell_type": "code",
   "execution_count": 1,
   "metadata": {},
   "outputs": [
    {
     "name": "stdout",
     "output_type": "stream",
     "text": [
      "Using matplotlib backend: TkAgg\n"
     ]
    }
   ],
   "source": [
    "import numpy as np\n",
    "from os import listdir, mkdir, path\n",
    "import matplotlib.pyplot as plt\n",
    "from matplotlib import colors, cm\n",
    "%matplotlib"
   ]
  },
  {
   "cell_type": "code",
   "execution_count": 2,
   "metadata": {
    "collapsed": true
   },
   "outputs": [],
   "source": [
    "folder1 = '/Users/Amanda/Desktop/PtSn/PtSn1_subtract_background'\n",
    "bgfile1 = '/Users/Amanda/Desktop/PtSn/PtSn1_subtract_background/background.dat'\n",
    "loc1 = path.join(folder1, 'addtnl', 'PtSn1')\n",
    "\n",
    "bounds1 = ([0, 2.69, 0.025, 0, 2.80, 0.025, 0, 2.96, 0.025, 0, 3.12, 0.025],\n",
    "           [20, 2.79, 0.08, 20, 2.9, 0.08, 20, 3.06, 0.08, 20, 3.23, 0.08])\n",
    "sequencestarters1 = [path.join(folder1,'_PtSn1_scan1_0031_C.dat'),\n",
    "                    path.join(folder1,'dSn1_1_scan1_0000_C.dat')]\n",
    "initialvalues1 = [[10.3, 2.74, 0.05, 1, 2.85, 0.05, 1, 3.01, 0.05, 1.8, 3.17, 0.05],\n",
    "                 [1, 2.74, 0.05, 5.08, 2.85, 0.05, 2.4, 3.01, 0.05, 1, 3.17, 0.05],\n",
    "                 [0.7, 2.74, 0.05, 5.65, 2.85, 0.05, 3.2, 3.01, 0.05, 0.3, 3.17, 0.05]]\n"
   ]
  },
  {
   "cell_type": "code",
   "execution_count": 3,
   "metadata": {
    "collapsed": true
   },
   "outputs": [],
   "source": [
    "def mk_subfolders(folder):\n",
    "    if not path.isdir(path.join(folder, 'bg_subbed')):\n",
    "        mkdir(path.join(folder, 'bg_subbed'))\n",
    "    if not path.isdir(path.join(folder, 'addtnl')):\n",
    "        mkdir(path.join(folder, 'addtnl'))\n",
    "    if not path.isdir(path.join(folder, 'pdf')):\n",
    "        mkdir(path.join(folder, 'pdf'))\n",
    "    if not path.isdir(path.join(folder, 'png')):\n",
    "        mkdir(path.join(folder, 'png'))\n",
    "\n",
    "def find_files_PtSn(folder):\n",
    "    files = listdir(folder)\n",
    "    files2 = [ii for ii in files if ((not ii.__contains__('background')) & ii.__contains__('dat'))]\n",
    "    files3 = [path.join(folder,  ii) for ii in files2]\n",
    "    return files2, files3\n",
    "\n",
    "def readfiles(folder, bgfile):\n",
    "    mk_subfolders(folder)\n",
    "    bg = np.loadtxt(bgfile, skiprows=34)\n",
    "    bg_q, bg_I, _,_ = bg.T\n",
    "    filenames, fullpaths = find_files_PtSn(folder)\n",
    "    nfiles = len(fullpaths)\n",
    "    intensity_image = np.zeros((bg_q.size,nfiles),dtype=float)\n",
    "    error_image = np.zeros((bg_q.size,nfiles),dtype=float)\n",
    "    for ii in range(nfiles):\n",
    "        spectrum = np.loadtxt(fullpaths[ii], skiprows=34)\n",
    "        spec_q, spec_I, spec_dI, _ = spectrum.T\n",
    "        if (spec_q != bg_q).any():\n",
    "            raise ValueError(\"Issue!  domain mismatch %s\" % fullpaths[ii])\n",
    "        intensity_image[:,ii] = spec_I\n",
    "        error_image[:,ii] = spec_dI\n",
    "    #waterfall_plot(diff_image, bg, loc)\n",
    "    return intensity_image, error_image, bg, filenames, fullpaths"
   ]
  },
  {
   "cell_type": "code",
   "execution_count": 4,
   "metadata": {},
   "outputs": [],
   "source": [
    "intensity_image1, error_image1, bg1, names1, files1 = readfiles(folder1, bgfile1)"
   ]
  },
  {
   "cell_type": "code",
   "execution_count": 5,
   "metadata": {
    "collapsed": true
   },
   "outputs": [],
   "source": [
    "def waterfall_plot(diff_image, bg, loc):\n",
    "    nq, nfiles = diff_image.shape\n",
    "    qq,_,_,_ = bg.T\n",
    "    viridis = plt.get_cmap('viridis')\n",
    "    cNorm = colors.Normalize(vmin=0, vmax=nfiles)\n",
    "    scalarMap = cm.ScalarMappable(norm=cNorm, cmap=viridis)\n",
    "    fig, ax = plt.subplots()\n",
    "    ax.plot([qq[0],qq[-1]], [0,0], color='k',lw=1.5)\n",
    "    for ii in range(nfiles):\n",
    "        colorVal = scalarMap.to_rgba(ii)\n",
    "        ax.plot(qq, diff_image[:,ii], color=colorVal, lw=0.5)\n",
    "    ax.plot([2.3,2.5],[-2,-2],c='r',ls=':')\n",
    "    ax.plot([3.35,4.1],[-2,-2],c='r',ls=':')\n",
    "    #ax.plot([4.4,qq[-1]],[-2,-2],c='r',ls=':')\n",
    "    ax.set_title('Waterfall; background regions')\n",
    "    fig.savefig(loc + '_waterfall.pdf')\n",
    "    #plt.close(fig)"
   ]
  },
  {
   "cell_type": "code",
   "execution_count": 6,
   "metadata": {},
   "outputs": [],
   "source": [
    "waterfall_plot(intensity_image1, bg1, loc1)"
   ]
  },
  {
   "cell_type": "code",
   "execution_count": 7,
   "metadata": {
    "collapsed": true
   },
   "outputs": [],
   "source": [
    "def bg_subtract_fit_individual2(intensity_image, filenames, folder, bg, loc, demonstrative=False):\n",
    "    bg_q, bg_I, _,_ = bg.T\n",
    "    nfiles = len(filenames)\n",
    "    \n",
    "    features = ~(((bg_q > 2.3) & (bg_q < 2.5)) | ((bg_q > 3.35) & (bg_q < 4.1))) # | (bg_q > 4.4))\n",
    "    diff_image = np.zeros((bg_q.size,nfiles),dtype=float)\n",
    "    for ii in range(nfiles):\n",
    "        spec_I = intensity_image[:,ii]\n",
    "        mult = ((spec_I/bg_I)[~features]).mean()\n",
    "        diff = spec_I - mult*bg_I\n",
    "        diff_image[:,ii] = diff\n",
    "    # Waterfall plot of diffed spectra\n",
    "    waterfall_plot(diff_image, bg, loc)\n",
    "    # Image plot of diffed spectra\n",
    "    fig6, ax6 = plt.subplots()\n",
    "    ax6.imshow(diff_image.T)\n",
    "    ax6.set_xlabel('q index')\n",
    "    ax6.set_ylabel('t index')\n",
    "    ax6.set_title('Background subtracted spectrum evolution')\n",
    "    fname = loc+'_diffimage.pdf'\n",
    "    fig6.savefig(fname)\n",
    "    #plt.close(fig6)\n",
    "    return diff_image, features"
   ]
  },
  {
   "cell_type": "code",
   "execution_count": 8,
   "metadata": {},
   "outputs": [],
   "source": [
    "diff_image1, features1 = bg_subtract_fit_individual2(intensity_image1, files1, folder1, bg1, loc1)"
   ]
  },
  {
   "cell_type": "code",
   "execution_count": 26,
   "metadata": {},
   "outputs": [],
   "source": [
    "def write_subbed(diff_image,bg,filenames):\n",
    "    folder = path.join(folder1,'bg_subbed')\n",
    "    q,_,_,_=bg.T\n",
    "    X = np.zeros((q.size,2),dtype=float)\n",
    "    X[:,0] = q\n",
    "    for ii in range(len(filenames)):\n",
    "        fname = path.join(folder,filenames[ii])\n",
    "        X[:,1] = diff_image[:,ii]\n",
    "        np.savetxt(fname,X,'%.8g','\\t',header=\"q\\t\\tI_subtracted\")"
   ]
  },
  {
   "cell_type": "code",
   "execution_count": 27,
   "metadata": {},
   "outputs": [],
   "source": [
    "write_subbed(diff_image1,bg1,names1)"
   ]
  },
  {
   "cell_type": "code",
   "execution_count": null,
   "metadata": {
    "collapsed": true
   },
   "outputs": [],
   "source": []
  }
 ],
 "metadata": {
  "kernelspec": {
   "display_name": "Python 2",
   "language": "python",
   "name": "python2"
  },
  "language_info": {
   "codemirror_mode": {
    "name": "ipython",
    "version": 2
   },
   "file_extension": ".py",
   "mimetype": "text/x-python",
   "name": "python",
   "nbconvert_exporter": "python",
   "pygments_lexer": "ipython2",
   "version": "2.7.13"
  }
 },
 "nbformat": 4,
 "nbformat_minor": 2
}
